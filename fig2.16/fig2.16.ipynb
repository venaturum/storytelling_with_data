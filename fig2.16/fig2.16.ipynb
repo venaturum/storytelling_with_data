{
 "cells": [
  {
   "cell_type": "code",
   "execution_count": null,
   "metadata": {},
   "outputs": [],
   "source": [
    "import pandas as pd\n",
    "import matplotlib.pyplot as plt\n",
    "import seaborn as sns"
   ]
  },
  {
   "cell_type": "code",
   "execution_count": null,
   "metadata": {},
   "outputs": [],
   "source": [
    "df = pd.read_csv('data.csv', index_col=0)"
   ]
  },
  {
   "cell_type": "code",
   "execution_count": null,
   "metadata": {},
   "outputs": [],
   "source": [
    "df"
   ]
  },
  {
   "cell_type": "code",
   "execution_count": null,
   "metadata": {},
   "outputs": [],
   "source": [
    "fig = plt.figure(figsize=(14, 4))\n",
    "\n",
    "colors = {1:{'A':'#7257b3'}, 2:{'B':'#7257b3'}}\n",
    "titles = {1:'Comparing these is easy', 2:'Comparing these is hard'}\n",
    "\n",
    "for i in [1,2]:\n",
    "    ax = fig.add_subplot(1, 2, i)\n",
    "    ax.set_ylim(0,20)\n",
    "    ax.set_yticks(range(0,21,5))\n",
    "    ax.set_title(titles[i], loc='left', pad=15)\n",
    "    for spine in (\"right\", \"top\"):\n",
    "        ax.spines[spine].set_visible(False)\n",
    "    bottom= [0]*len(df.category.unique())\n",
    "    for series in ('A', 'B', 'C'):\n",
    "        ax.bar(df[df.series==series].category, df[df.series==series].val, bottom=bottom, color=colors[i].get(series,'#ababab'), edgecolor='#ffffff', width=0.6) \n",
    "        bottom += df[df.series==series].val.values"
   ]
  },
  {
   "cell_type": "code",
   "execution_count": null,
   "metadata": {},
   "outputs": [],
   "source": []
  },
  {
   "cell_type": "code",
   "execution_count": null,
   "metadata": {},
   "outputs": [],
   "source": []
  },
  {
   "cell_type": "code",
   "execution_count": null,
   "metadata": {},
   "outputs": [],
   "source": []
  }
 ],
 "metadata": {
  "kernelspec": {
   "display_name": "Python 3",
   "language": "python",
   "name": "python3"
  },
  "language_info": {
   "codemirror_mode": {
    "name": "ipython",
    "version": 3
   },
   "file_extension": ".py",
   "mimetype": "text/x-python",
   "name": "python",
   "nbconvert_exporter": "python",
   "pygments_lexer": "ipython3",
   "version": "3.7.4"
  }
 },
 "nbformat": 4,
 "nbformat_minor": 2
}
