{
 "cells": [
  {
   "cell_type": "code",
   "execution_count": null,
   "metadata": {},
   "outputs": [],
   "source": [
    "import pandas as pd\n",
    "import numpy as np\n",
    "import matplotlib.pyplot as plt\n",
    "import matplotlib.ticker as ticker"
   ]
  },
  {
   "cell_type": "code",
   "execution_count": null,
   "metadata": {},
   "outputs": [],
   "source": [
    "data = pd.read_csv(\"data.csv\")\n",
    "x = data.x\n",
    "y = data.y\n",
    "x_mean = x.mean()\n",
    "y_mean = y.mean()"
   ]
  },
  {
   "cell_type": "code",
   "execution_count": null,
   "metadata": {},
   "outputs": [],
   "source": [
    "plt.scatter(x, y)\n",
    "plt.scatter(x_mean, y_mean)\n",
    "plt.show()"
   ]
  },
  {
   "cell_type": "code",
   "execution_count": null,
   "metadata": {},
   "outputs": [],
   "source": [
    "fig = plt.figure()  # create a figure object\n",
    "ax = fig.add_subplot(1, 1, 1)  # create an axes object in the figure\n",
    "ax.scatter(x, y)\n",
    "ax.scatter(x_mean, y_mean)\n",
    "fig.canvas.draw()"
   ]
  },
  {
   "cell_type": "code",
   "execution_count": null,
   "metadata": {},
   "outputs": [],
   "source": [
    "fig = plt.figure(figsize=(6, 5))  # create a figure object\n",
    "ax = fig.add_subplot(1, 1, 1)  # create an axes object in the figure\n",
    "ax.scatter(x, y, s = 8**2, c=\"#b1b1b1\")\n",
    "ax.scatter(x_mean, y_mean, s = 12**2, c=\"#000000\")\n",
    "\n",
    "#remove top and right axis\n",
    "ax.spines[\"top\"].set_visible(False)\n",
    "ax.spines[\"right\"].set_visible(False)\n",
    "\n",
    "#set axis limits and ticks\n",
    "ax.set_xlim(0,4000)\n",
    "ax.set_ylim(0,3)\n",
    "ax.set_xticks(range(0,4001,1000))\n",
    "\n",
    "#format axis tick labels\n",
    "ax.yaxis.set_major_formatter(ticker.StrMethodFormatter('${x:.2f}'))\n",
    "ax.xaxis.set_major_formatter(ticker.StrMethodFormatter('{x:,.0f}'))\n",
    "\n",
    "#axis labels and title, font size and positioning\n",
    "ax.set_ylabel('Cost per mile', fontsize = 12, horizontalalignment='right', x=-0.13, y=1.02)\n",
    "ax.set_xlabel('Miles driven per month', fontsize = 12, horizontalalignment='left', x=0.0, y=-0.1)\n",
    "ax.set_title('Cost per mile by miles driven', fontsize = 16, horizontalalignment='left', x=-0.19, y=1.08)\n",
    "\n",
    "# AVG annotation\n",
    "ax.text(x_mean-80, y_mean+0.15, \"AVG\", fontsize=12, horizontalalignment='center', verticalalignment='center')\n",
    "\n",
    "fig.canvas.draw()\n"
   ]
  },
  {
   "cell_type": "code",
   "execution_count": null,
   "metadata": {},
   "outputs": [],
   "source": [
    "fig = plt.figure(figsize=(6, 5))  # create a figure object\n",
    "ax = fig.add_subplot(1, 1, 1)  # create an axes object in the figure\n",
    "\n",
    "ax.scatter(x[y>y_mean], y[y>y_mean], s = 8**2, c=\"#ffa500\")\n",
    "ax.scatter(x[y<=y_mean], y[y<=y_mean], s = 8**2, c=\"#b1b1b1\")\n",
    "ax.scatter(x_mean, y_mean, s = 12**2, c=\"#000000\")\n",
    "\n",
    "#remove top and right axis\n",
    "ax.spines[\"top\"].set_visible(False)\n",
    "ax.spines[\"right\"].set_visible(False)\n",
    "\n",
    "#set axis limits and ticks\n",
    "ax.set_xlim(0,4000)\n",
    "ax.set_ylim(0,3)\n",
    "ax.set_xticks(range(0,4001,1000))\n",
    "\n",
    "#format axis tick labels\n",
    "ax.yaxis.set_major_formatter(ticker.StrMethodFormatter('${x:.2f}'))\n",
    "ax.xaxis.set_major_formatter(ticker.StrMethodFormatter('{x:,.0f}'))\n",
    "\n",
    "#axis labels and title, font size and positioning\n",
    "ax.set_ylabel('Cost per mile', fontsize = 12, horizontalalignment='right', x=-0.13, y=1.02)\n",
    "ax.set_xlabel('Miles driven per month', fontsize = 12, horizontalalignment='left', x=0.0, y=-0.1)\n",
    "ax.set_title('Cost per mile by miles driven', fontsize = 16, horizontalalignment='left', x=-0.19, y=1.08)\n",
    "\n",
    "# AVG annotation\n",
    "ax.text(x_mean-80, y_mean+0.15, \"AVG\", fontsize=12, horizontalalignment='center', verticalalignment='center')\n",
    "\n",
    "ax.axhline(y_mean, linestyle=\"--\", c='#000000', zorder=0)\n",
    "\n",
    "fig.canvas.draw()\n"
   ]
  },
  {
   "cell_type": "code",
   "execution_count": null,
   "metadata": {},
   "outputs": [],
   "source": [
    "# alternate way to map colours\n",
    "col = (y > y_mean).map({True:\"#ffa500\", False:\"#b1b1b1\"})\n",
    "\n",
    "fig = plt.figure(figsize=(6, 5))  # create a figure object\n",
    "ax = fig.add_subplot(1, 1, 1)  # create an axes object in the figure\n",
    "\n",
    "ax.scatter(x, y, s = 8**2, c=col)\n",
    "ax.scatter(x_mean, y_mean, s = 12**2, c=\"#000000\")\n",
    "\n",
    "#remove top and right axis\n",
    "ax.spines[\"top\"].set_visible(False)\n",
    "ax.spines[\"right\"].set_visible(False)\n",
    "\n",
    "#set axis limits and ticks\n",
    "ax.set_xlim(0,4000)\n",
    "ax.set_ylim(0,3)\n",
    "ax.set_xticks(range(0,4001,1000))\n",
    "\n",
    "#format axis tick labels\n",
    "ax.yaxis.set_major_formatter(ticker.StrMethodFormatter('${x:.2f}'))\n",
    "ax.xaxis.set_major_formatter(ticker.StrMethodFormatter('{x:,.0f}'))\n",
    "\n",
    "#axis labels and title, font size and positioning\n",
    "ax.set_ylabel('Cost per mile', fontsize = 12, horizontalalignment='right', x=-0.13, y=1.02)\n",
    "ax.set_xlabel('Miles driven per month', fontsize = 12, horizontalalignment='left', x=0.0, y=-0.1)\n",
    "ax.set_title('Cost per mile by miles driven', fontsize = 16, horizontalalignment='left', x=-0.19, y=1.08)\n",
    "\n",
    "# AVG annotation\n",
    "ax.text(x_mean-80, y_mean+0.15, \"AVG\", fontsize=12, horizontalalignment='center', verticalalignment='center')\n",
    "\n",
    "# horizontal average line\n",
    "ax.axhline(y_mean, linestyle=\"--\", c='#000000', zorder=0)\n",
    "\n",
    "fig.canvas.draw()"
   ]
  },
  {
   "cell_type": "code",
   "execution_count": null,
   "metadata": {},
   "outputs": [],
   "source": []
  },
  {
   "cell_type": "code",
   "execution_count": null,
   "metadata": {},
   "outputs": [],
   "source": []
  },
  {
   "cell_type": "code",
   "execution_count": null,
   "metadata": {},
   "outputs": [],
   "source": []
  },
  {
   "cell_type": "code",
   "execution_count": null,
   "metadata": {},
   "outputs": [],
   "source": []
  }
 ],
 "metadata": {
  "kernelspec": {
   "display_name": "Python 3",
   "language": "python",
   "name": "python3"
  },
  "language_info": {
   "codemirror_mode": {
    "name": "ipython",
    "version": 3
   },
   "file_extension": ".py",
   "mimetype": "text/x-python",
   "name": "python",
   "nbconvert_exporter": "python",
   "pygments_lexer": "ipython3",
   "version": "3.7.4"
  }
 },
 "nbformat": 4,
 "nbformat_minor": 2
}
