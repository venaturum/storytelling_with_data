{
 "cells": [
  {
   "cell_type": "code",
   "execution_count": null,
   "metadata": {},
   "outputs": [],
   "source": [
    "import pandas as pd\n",
    "import matplotlib.pyplot as plt\n",
    "import seaborn as sns"
   ]
  },
  {
   "cell_type": "code",
   "execution_count": null,
   "metadata": {},
   "outputs": [],
   "source": [
    "df = pd.read_csv('data.csv', index_col=0)"
   ]
  },
  {
   "cell_type": "code",
   "execution_count": null,
   "metadata": {},
   "outputs": [],
   "source": [
    "df"
   ]
  },
  {
   "cell_type": "code",
   "execution_count": null,
   "metadata": {},
   "outputs": [],
   "source": [
    "palette=('#7257b3','#a581ff','#ababab','#d1d1d1')\n",
    "\n",
    "def barplot(ax, series=['A','B','C','D']):\n",
    "    sns.barplot('category', 'val', hue='series', palette=palette, data=df[df.series.isin(series)], ax=ax)\n",
    "    ax._remove_legend(None)\n",
    "    ax.set_ylim(0,8)\n",
    "    ax.set_xlabel(None)\n",
    "    num_categories = len(df[df.series.isin(series)].category.unique())\n",
    "    if len(series) > 1:\n",
    "        for i, s in enumerate(series):\n",
    "            patch = ax.patches[0 + i*num_categories]\n",
    "            ax.annotate(f'{s}', (patch.get_x() +0.5*patch.get_width(),patch.get_height()), xycoords='data', horizontalalignment='center', verticalalignment='center', fontsize=12, textcoords='offset points', xytext=(0,7), color=palette[i]) \n",
    "    \n",
    "fig = plt.figure(figsize=(14, 4))  # create a figure object\n",
    "\n",
    "for i in [1,2,3]:\n",
    "    ax = fig.add_subplot(1, 3, i)  # create an axes object in the figure\n",
    "    for spine in (\"right\", \"top\"):\n",
    "        ax.spines[spine].set_visible(False)\n",
    "    series = {1:('A',), 2:('A','B'), 3:('A','B','C','D')}[i]\n",
    "    barplot(ax, series)\n",
    "    title = {1:\"Single series\", 2:\"Two series\", 3:\"Multiple series\"}[i]\n",
    "    ax.set_title(title, loc='left')"
   ]
  },
  {
   "cell_type": "code",
   "execution_count": null,
   "metadata": {},
   "outputs": [],
   "source": []
  },
  {
   "cell_type": "code",
   "execution_count": null,
   "metadata": {},
   "outputs": [],
   "source": []
  }
 ],
 "metadata": {
  "kernelspec": {
   "display_name": "Python 3",
   "language": "python",
   "name": "python3"
  },
  "language_info": {
   "codemirror_mode": {
    "name": "ipython",
    "version": 3
   },
   "file_extension": ".py",
   "mimetype": "text/x-python",
   "name": "python",
   "nbconvert_exporter": "python",
   "pygments_lexer": "ipython3",
   "version": "3.7.4"
  }
 },
 "nbformat": 4,
 "nbformat_minor": 2
}
