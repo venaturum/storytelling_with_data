{
 "cells": [
  {
   "cell_type": "code",
   "execution_count": 1,
   "metadata": {},
   "outputs": [],
   "source": [
    "import pandas as pd\n",
    "import numpy as np"
   ]
  },
  {
   "cell_type": "code",
   "execution_count": 2,
   "metadata": {},
   "outputs": [],
   "source": [
    "df = pd.DataFrame(index=pd.date_range(\"2014-09-01\", \"2015-9-30\"))"
   ]
  },
  {
   "cell_type": "code",
   "execution_count": 3,
   "metadata": {},
   "outputs": [
    {
     "data": {
      "text/html": [
       "<div>\n",
       "<style scoped>\n",
       "    .dataframe tbody tr th:only-of-type {\n",
       "        vertical-align: middle;\n",
       "    }\n",
       "\n",
       "    .dataframe tbody tr th {\n",
       "        vertical-align: top;\n",
       "    }\n",
       "\n",
       "    .dataframe thead th {\n",
       "        text-align: right;\n",
       "    }\n",
       "</style>\n",
       "<table border=\"1\" class=\"dataframe\">\n",
       "  <thead>\n",
       "    <tr style=\"text-align: right;\">\n",
       "      <th></th>\n",
       "    </tr>\n",
       "  </thead>\n",
       "  <tbody>\n",
       "    <tr>\n",
       "      <th>2014-09-01</th>\n",
       "    </tr>\n",
       "    <tr>\n",
       "      <th>2014-09-02</th>\n",
       "    </tr>\n",
       "    <tr>\n",
       "      <th>2014-09-03</th>\n",
       "    </tr>\n",
       "    <tr>\n",
       "      <th>2014-09-04</th>\n",
       "    </tr>\n",
       "    <tr>\n",
       "      <th>2014-09-05</th>\n",
       "    </tr>\n",
       "    <tr>\n",
       "      <th>...</th>\n",
       "    </tr>\n",
       "    <tr>\n",
       "      <th>2015-09-26</th>\n",
       "    </tr>\n",
       "    <tr>\n",
       "      <th>2015-09-27</th>\n",
       "    </tr>\n",
       "    <tr>\n",
       "      <th>2015-09-28</th>\n",
       "    </tr>\n",
       "    <tr>\n",
       "      <th>2015-09-29</th>\n",
       "    </tr>\n",
       "    <tr>\n",
       "      <th>2015-09-30</th>\n",
       "    </tr>\n",
       "  </tbody>\n",
       "</table>\n",
       "<p>395 rows × 0 columns</p>\n",
       "</div>"
      ],
      "text/plain": [
       "Empty DataFrame\n",
       "Columns: []\n",
       "Index: [2014-09-01 00:00:00, 2014-09-02 00:00:00, 2014-09-03 00:00:00, 2014-09-04 00:00:00, 2014-09-05 00:00:00, 2014-09-06 00:00:00, 2014-09-07 00:00:00, 2014-09-08 00:00:00, 2014-09-09 00:00:00, 2014-09-10 00:00:00, 2014-09-11 00:00:00, 2014-09-12 00:00:00, 2014-09-13 00:00:00, 2014-09-14 00:00:00, 2014-09-15 00:00:00, 2014-09-16 00:00:00, 2014-09-17 00:00:00, 2014-09-18 00:00:00, 2014-09-19 00:00:00, 2014-09-20 00:00:00, 2014-09-21 00:00:00, 2014-09-22 00:00:00, 2014-09-23 00:00:00, 2014-09-24 00:00:00, 2014-09-25 00:00:00, 2014-09-26 00:00:00, 2014-09-27 00:00:00, 2014-09-28 00:00:00, 2014-09-29 00:00:00, 2014-09-30 00:00:00, 2014-10-01 00:00:00, 2014-10-02 00:00:00, 2014-10-03 00:00:00, 2014-10-04 00:00:00, 2014-10-05 00:00:00, 2014-10-06 00:00:00, 2014-10-07 00:00:00, 2014-10-08 00:00:00, 2014-10-09 00:00:00, 2014-10-10 00:00:00, 2014-10-11 00:00:00, 2014-10-12 00:00:00, 2014-10-13 00:00:00, 2014-10-14 00:00:00, 2014-10-15 00:00:00, 2014-10-16 00:00:00, 2014-10-17 00:00:00, 2014-10-18 00:00:00, 2014-10-19 00:00:00, 2014-10-20 00:00:00, 2014-10-21 00:00:00, 2014-10-22 00:00:00, 2014-10-23 00:00:00, 2014-10-24 00:00:00, 2014-10-25 00:00:00, 2014-10-26 00:00:00, 2014-10-27 00:00:00, 2014-10-28 00:00:00, 2014-10-29 00:00:00, 2014-10-30 00:00:00, 2014-10-31 00:00:00, 2014-11-01 00:00:00, 2014-11-02 00:00:00, 2014-11-03 00:00:00, 2014-11-04 00:00:00, 2014-11-05 00:00:00, 2014-11-06 00:00:00, 2014-11-07 00:00:00, 2014-11-08 00:00:00, 2014-11-09 00:00:00, 2014-11-10 00:00:00, 2014-11-11 00:00:00, 2014-11-12 00:00:00, 2014-11-13 00:00:00, 2014-11-14 00:00:00, 2014-11-15 00:00:00, 2014-11-16 00:00:00, 2014-11-17 00:00:00, 2014-11-18 00:00:00, 2014-11-19 00:00:00, 2014-11-20 00:00:00, 2014-11-21 00:00:00, 2014-11-22 00:00:00, 2014-11-23 00:00:00, 2014-11-24 00:00:00, 2014-11-25 00:00:00, 2014-11-26 00:00:00, 2014-11-27 00:00:00, 2014-11-28 00:00:00, 2014-11-29 00:00:00, 2014-11-30 00:00:00, 2014-12-01 00:00:00, 2014-12-02 00:00:00, 2014-12-03 00:00:00, 2014-12-04 00:00:00, 2014-12-05 00:00:00, 2014-12-06 00:00:00, 2014-12-07 00:00:00, 2014-12-08 00:00:00, 2014-12-09 00:00:00, ...]\n",
       "\n",
       "[395 rows x 0 columns]"
      ]
     },
     "execution_count": 3,
     "metadata": {},
     "output_type": "execute_result"
    }
   ],
   "source": [
    "df"
   ]
  },
  {
   "cell_type": "code",
   "execution_count": 4,
   "metadata": {},
   "outputs": [],
   "source": [
    "monthly_means = [18, 12, 13, 18, 17, 13, 12, 14, 13, 18, 19, 24, 21]"
   ]
  },
  {
   "cell_type": "code",
   "execution_count": 5,
   "metadata": {},
   "outputs": [
    {
     "data": {
      "text/plain": [
       "{Period('2014-09', 'M'): 18,\n",
       " Period('2014-10', 'M'): 12,\n",
       " Period('2014-11', 'M'): 13,\n",
       " Period('2014-12', 'M'): 18,\n",
       " Period('2015-01', 'M'): 17,\n",
       " Period('2015-02', 'M'): 13,\n",
       " Period('2015-03', 'M'): 12,\n",
       " Period('2015-04', 'M'): 14,\n",
       " Period('2015-05', 'M'): 13,\n",
       " Period('2015-06', 'M'): 18,\n",
       " Period('2015-07', 'M'): 19,\n",
       " Period('2015-08', 'M'): 24,\n",
       " Period('2015-09', 'M'): 21}"
      ]
     },
     "execution_count": 5,
     "metadata": {},
     "output_type": "execute_result"
    }
   ],
   "source": [
    "months = df.index.to_period('M')\n",
    "month_to_mean_map = dict(zip(months.unique(), monthly_means))\n",
    "month_to_mean_map"
   ]
  },
  {
   "cell_type": "code",
   "execution_count": 6,
   "metadata": {},
   "outputs": [],
   "source": [
    "df[\"val\"] = df.index.map(lambda x : np.random.normal(loc=month_to_mean_map[x.to_period('M')], scale=2.5))"
   ]
  },
  {
   "cell_type": "code",
   "execution_count": 7,
   "metadata": {},
   "outputs": [
    {
     "data": {
      "text/html": [
       "<div>\n",
       "<style scoped>\n",
       "    .dataframe tbody tr th:only-of-type {\n",
       "        vertical-align: middle;\n",
       "    }\n",
       "\n",
       "    .dataframe tbody tr th {\n",
       "        vertical-align: top;\n",
       "    }\n",
       "\n",
       "    .dataframe thead th {\n",
       "        text-align: right;\n",
       "    }\n",
       "</style>\n",
       "<table border=\"1\" class=\"dataframe\">\n",
       "  <thead>\n",
       "    <tr style=\"text-align: right;\">\n",
       "      <th></th>\n",
       "      <th>val</th>\n",
       "    </tr>\n",
       "  </thead>\n",
       "  <tbody>\n",
       "    <tr>\n",
       "      <th>2014-09-01</th>\n",
       "      <td>16.444579</td>\n",
       "    </tr>\n",
       "    <tr>\n",
       "      <th>2014-09-02</th>\n",
       "      <td>20.446867</td>\n",
       "    </tr>\n",
       "    <tr>\n",
       "      <th>2014-09-03</th>\n",
       "      <td>18.290563</td>\n",
       "    </tr>\n",
       "    <tr>\n",
       "      <th>2014-09-04</th>\n",
       "      <td>20.093450</td>\n",
       "    </tr>\n",
       "    <tr>\n",
       "      <th>2014-09-05</th>\n",
       "      <td>17.701020</td>\n",
       "    </tr>\n",
       "    <tr>\n",
       "      <th>...</th>\n",
       "      <td>...</td>\n",
       "    </tr>\n",
       "    <tr>\n",
       "      <th>2015-09-26</th>\n",
       "      <td>18.496113</td>\n",
       "    </tr>\n",
       "    <tr>\n",
       "      <th>2015-09-27</th>\n",
       "      <td>19.982369</td>\n",
       "    </tr>\n",
       "    <tr>\n",
       "      <th>2015-09-28</th>\n",
       "      <td>19.288748</td>\n",
       "    </tr>\n",
       "    <tr>\n",
       "      <th>2015-09-29</th>\n",
       "      <td>18.948669</td>\n",
       "    </tr>\n",
       "    <tr>\n",
       "      <th>2015-09-30</th>\n",
       "      <td>22.966889</td>\n",
       "    </tr>\n",
       "  </tbody>\n",
       "</table>\n",
       "<p>395 rows × 1 columns</p>\n",
       "</div>"
      ],
      "text/plain": [
       "                  val\n",
       "2014-09-01  16.444579\n",
       "2014-09-02  20.446867\n",
       "2014-09-03  18.290563\n",
       "2014-09-04  20.093450\n",
       "2014-09-05  17.701020\n",
       "...               ...\n",
       "2015-09-26  18.496113\n",
       "2015-09-27  19.982369\n",
       "2015-09-28  19.288748\n",
       "2015-09-29  18.948669\n",
       "2015-09-30  22.966889\n",
       "\n",
       "[395 rows x 1 columns]"
      ]
     },
     "execution_count": 7,
     "metadata": {},
     "output_type": "execute_result"
    }
   ],
   "source": [
    "df"
   ]
  },
  {
   "cell_type": "code",
   "execution_count": 8,
   "metadata": {},
   "outputs": [],
   "source": [
    "df.to_csv(\"data.csv\")"
   ]
  },
  {
   "cell_type": "code",
   "execution_count": null,
   "metadata": {},
   "outputs": [],
   "source": []
  }
 ],
 "metadata": {
  "kernelspec": {
   "display_name": "Python 3",
   "language": "python",
   "name": "python3"
  },
  "language_info": {
   "codemirror_mode": {
    "name": "ipython",
    "version": 3
   },
   "file_extension": ".py",
   "mimetype": "text/x-python",
   "name": "python",
   "nbconvert_exporter": "python",
   "pygments_lexer": "ipython3",
   "version": "3.7.4"
  }
 },
 "nbformat": 4,
 "nbformat_minor": 2
}
