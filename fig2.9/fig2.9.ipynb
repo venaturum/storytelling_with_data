{
 "cells": [
  {
   "cell_type": "code",
   "execution_count": null,
   "metadata": {},
   "outputs": [],
   "source": [
    "import pandas as pd\n",
    "import numpy as np\n",
    "import matplotlib.pyplot as plt\n",
    "import matplotlib.dates as mdates\n",
    "import matplotlib.ticker as ticker\n",
    "import matplotlib.artist\n",
    "from pandas.plotting import register_matplotlib_converters\n",
    "register_matplotlib_converters()"
   ]
  },
  {
   "cell_type": "code",
   "execution_count": null,
   "metadata": {},
   "outputs": [],
   "source": [
    "df = pd.read_csv(\"data.csv\", index_col=0)\n",
    "df.index = pd.to_datetime(df.index)"
   ]
  },
  {
   "cell_type": "code",
   "execution_count": null,
   "metadata": {},
   "outputs": [],
   "source": [
    "df"
   ]
  },
  {
   "cell_type": "code",
   "execution_count": null,
   "metadata": {},
   "outputs": [],
   "source": [
    "means = df.resample('MS').mean()\n",
    "means"
   ]
  },
  {
   "cell_type": "code",
   "execution_count": null,
   "metadata": {},
   "outputs": [],
   "source": [
    "df_month = pd.DataFrame(index=df.resample('MS').mean().index)\n",
    "df_month[\"mean\"] = df.resample('MS').mean().val\n",
    "df_month[\"min\"] = df.resample('MS').min().val\n",
    "df_month[\"max\"] = df.resample('MS').max().val\n",
    "df_month"
   ]
  },
  {
   "cell_type": "code",
   "execution_count": null,
   "metadata": {},
   "outputs": [],
   "source": [
    "fig = plt.figure(figsize=(10, 5))  # create a figure object\\n\",\n",
    "ax = fig.add_subplot(1, 1, 1)  # create an axes object in the figure\\n\",\n",
    "\n",
    "ax.plot(df_month.index, df_month[\"mean\"], linewidth=4)\n",
    "ax.fill_between(df_month.index, df_month[\"max\"], df_month[\"min\"], color=\"#dcdcdc\")\n",
    "\n",
    "#remove top and right axis\\n\",\n",
    "ax.spines[\"top\"].set_visible(False)\n",
    "ax.spines[\"right\"].set_visible(False)\n",
    "\n",
    "#set axis limits and ticks\\n\",\n",
    "ax.set_ylim(0,40)\n",
    "ax.set_yticks(range(0,41,5))\n",
    "\n",
    "#format axis tick labels\\n\",\n",
    "#ax.yaxis.set_major_formatter(ticker.StrMethodFormatter('{x:.0f}'))  \n",
    "    \n",
    "ax.xaxis.set_major_locator(mdates.MonthLocator())\n",
    "ax.xaxis.set_major_formatter(mdates.DateFormatter('%b'))\n",
    "\n",
    "fig.canvas.draw()"
   ]
  },
  {
   "cell_type": "code",
   "execution_count": null,
   "metadata": {},
   "outputs": [],
   "source": [
    "df2 = df_month.copy()\n",
    "df2[\"month\"] = df2.index.month_name().map(lambda x : x[:3])\n",
    "df2[\"year\"] = df2.index.year\n",
    "df2.set_index([\"year\",\"month\"], inplace=True)\n",
    "df2"
   ]
  },
  {
   "cell_type": "code",
   "execution_count": null,
   "metadata": {},
   "outputs": [],
   "source": [
    "from itertools import groupby\n",
    "from matplotlib.lines import Line2D\n",
    "\n",
    "    \n",
    "def label_len(my_index,level):\n",
    "    labels = my_index.get_level_values(level)\n",
    "    return [(k, sum(1 for i in g)) for k,g in groupby(labels)]\n",
    "\n",
    "def make_multiindex_axis_label(ax, index):\n",
    "    ax.set_xticklabels('')\n",
    "    ax.set_xlabel('')\n",
    "    ypos = -.1\n",
    "    scale = 1./index.size\n",
    "    for level in range(index.nlevels)[::-1]:\n",
    "        pos = 0\n",
    "        for label, rpos in label_len(index,level):\n",
    "            lxpos = (pos + .5 * rpos)*scale\n",
    "            ax.text(lxpos, ypos, label, ha='center', transform=ax.transAxes)\n",
    "            ax.add_line(Line2D([pos*scale, pos*scale], [ypos + .1, ypos],\n",
    "                      transform=ax.transAxes, color='gray', clip_on=False)\n",
    "               )\n",
    "            pos += rpos\n",
    "        ax.add_line(Line2D([pos*scale, pos*scale], [ypos + .1, ypos],\n",
    "                      transform=ax.transAxes, color='gray', clip_on=False))\n",
    "        ypos -= .1\n"
   ]
  },
  {
   "cell_type": "code",
   "execution_count": null,
   "metadata": {},
   "outputs": [],
   "source": [
    "fig = plt.figure(figsize=(10, 5))  # create a figure object\\n\",\n",
    "ax = fig.add_subplot(1, 1, 1)  # create an axes object in the figure\\n\",\n",
    "\n",
    "ax.plot(df_month.index, df_month[\"mean\"], linewidth=4, color=\"#2d2d2d\")\n",
    "ax.fill_between(df_month.index, df_month[\"max\"], df_month[\"min\"], color=\"#dcdcdc\")\n",
    "ax.scatter(df_month.index[-1], df_month[\"mean\"][-1], s=10**2, color=\"#2d2d2d\")\n",
    "\n",
    "#remove top and right axis\\n\",\n",
    "ax.spines[\"top\"].set_visible(False)\n",
    "ax.spines[\"right\"].set_visible(False)\n",
    "\n",
    "#set axis limits and ticks\\n\",\n",
    "ax.set_ylim(0,40)\n",
    "ax.set_yticks(range(0,41,5))\n",
    "\n",
    "ax.set_ylabel('Wait time (minutes)', fontsize = 12, horizontalalignment='right', x=-0.13, y=1.02)\n",
    "\n",
    "#format axis tick labels\\n\",\n",
    "#ax.yaxis.set_major_formatter(ticker.StrMethodFormatter('{x:.0f}'))   \n",
    "    \n",
    "ax.xaxis.set_major_locator(mdates.MonthLocator())\n",
    "#ax.xaxis.set_major_formatter(mdates.DateFormatter('%b'))\n",
    "\n",
    "ax.annotate(f'AVG', (df_month.index[0],df_month[\"mean\"][0]), xycoords='data', verticalalignment='bottom', fontweight='bold') \n",
    "ax.annotate(f'MAX', (df_month.index[0],df_month[\"max\"][0]), xycoords='data', verticalalignment='bottom', c='#6b6b6b') \n",
    "ax.annotate(f'MIN', (df_month.index[0],df_month[\"min\"][0]), xycoords='data', verticalalignment='bottom', c='#6b6b6b') \n",
    "ax.annotate(f'   {df_month[\"mean\"][-1]:.0f}', (df_month.index[-1],df_month[\"mean\"][-1]), xycoords='data', verticalalignment='center') \n",
    "\n",
    "# Fist title\n",
    "fig.suptitle('Passport Control Wait Time', fontsize = 16, horizontalalignment='left', x=0.063, y=1.02)\n",
    "# Second title\n",
    "ax.set_title('Past 13 months', fontsize = 14, horizontalalignment='left', x=-0.08, y=1.05, color='#6b6b6b')\n",
    "            \n",
    "make_multiindex_axis_label(ax, df2.index)\n",
    "fig.canvas.draw()"
   ]
  },
  {
   "cell_type": "code",
   "execution_count": null,
   "metadata": {},
   "outputs": [],
   "source": []
  },
  {
   "cell_type": "code",
   "execution_count": null,
   "metadata": {},
   "outputs": [],
   "source": []
  },
  {
   "cell_type": "code",
   "execution_count": null,
   "metadata": {},
   "outputs": [],
   "source": []
  },
  {
   "cell_type": "code",
   "execution_count": null,
   "metadata": {},
   "outputs": [],
   "source": []
  },
  {
   "cell_type": "code",
   "execution_count": null,
   "metadata": {},
   "outputs": [],
   "source": []
  },
  {
   "cell_type": "code",
   "execution_count": null,
   "metadata": {},
   "outputs": [],
   "source": []
  }
 ],
 "metadata": {
  "kernelspec": {
   "display_name": "Python 3",
   "language": "python",
   "name": "python3"
  },
  "language_info": {
   "codemirror_mode": {
    "name": "ipython",
    "version": 3
   },
   "file_extension": ".py",
   "mimetype": "text/x-python",
   "name": "python",
   "nbconvert_exporter": "python",
   "pygments_lexer": "ipython3",
   "version": "3.7.4"
  }
 },
 "nbformat": 4,
 "nbformat_minor": 2
}
