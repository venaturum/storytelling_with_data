{
 "cells": [
  {
   "cell_type": "code",
   "execution_count": null,
   "metadata": {},
   "outputs": [],
   "source": [
    "import pandas as pd\n",
    "import matplotlib.pyplot as plt"
   ]
  },
  {
   "cell_type": "code",
   "execution_count": null,
   "metadata": {},
   "outputs": [],
   "source": [
    "df = pd.read_csv('data.csv',dtype={\"year\":\"int\"})"
   ]
  },
  {
   "cell_type": "code",
   "execution_count": null,
   "metadata": {},
   "outputs": [],
   "source": [
    "df"
   ]
  },
  {
   "cell_type": "code",
   "execution_count": null,
   "metadata": {},
   "outputs": [],
   "source": [
    "fig = plt.figure(figsize=(3, 9))  # create a figure object\n",
    "ax = fig.add_subplot(1, 1, 1)  # create an axes object in the figure\n",
    "\n",
    "colors = {'Career development':'#fe5b00'}\n",
    "\n",
    "for cat in df.survey_category.unique():\n",
    "    ax.plot(\"year\", \"percentage\", data=df[df.survey_category == cat], c=colors.get(cat,'#6b6b6b'), linewidth=3.5)\n",
    "    ax.scatter(\"year\", \"percentage\", data=df[df.survey_category == cat], c=colors.get(cat,'#6b6b6b'), s=9**2)\n",
    "    \n",
    "ax.set_yticks([])\n",
    "ax.set_xticks(df.year.unique())\n",
    "ax.set_ylim(0.2,1)\n",
    "\n",
    "for spine in (\"right\", \"left\", \"top\"):\n",
    "    ax.spines[spine].set_visible(False)\n",
    "\n",
    "    \n",
    "horizontal_offset = {2014:-0.1, 2015:1.1}\n",
    "y_lower, y_upper = ax.get_ylim()\n",
    "for survey_category, year, percentage in df.itertuples(index=False):\n",
    "    y_axis_frac = (percentage-y_lower)/(y_upper-y_lower)\n",
    "    ax.annotate(f'{percentage:.0%}', (horizontal_offset[year],y_axis_frac), xycoords='axes fraction', horizontalalignment='center', verticalalignment='center', fontsize=12) \n",
    "    if year == 2014:\n",
    "        ax.annotate(survey_category, (-0.2,y_axis_frac), xycoords='axes fraction', horizontalalignment='right', verticalalignment='center', fontsize=12) \n",
    "\n",
    "#fig.tight_layout(pad=0.4, w_pad=10, h_pad=0.9)\n"
   ]
  },
  {
   "cell_type": "code",
   "execution_count": null,
   "metadata": {},
   "outputs": [],
   "source": []
  }
 ],
 "metadata": {
  "kernelspec": {
   "display_name": "Python 3",
   "language": "python",
   "name": "python3"
  },
  "language_info": {
   "codemirror_mode": {
    "name": "ipython",
    "version": 3
   },
   "file_extension": ".py",
   "mimetype": "text/x-python",
   "name": "python",
   "nbconvert_exporter": "python",
   "pygments_lexer": "ipython3",
   "version": "3.7.4"
  }
 },
 "nbformat": 4,
 "nbformat_minor": 2
}
