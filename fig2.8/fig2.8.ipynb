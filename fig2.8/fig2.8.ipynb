{
 "cells": [
  {
   "cell_type": "code",
   "execution_count": null,
   "metadata": {},
   "outputs": [],
   "source": [
    "import pandas as pd\n",
    "import numpy as np\n",
    "import matplotlib.pyplot as plt\n",
    "import matplotlib.dates as mdates\n",
    "import matplotlib.ticker as ticker\n",
    "import matplotlib.artist\n",
    "from pandas.plotting import register_matplotlib_converters\n",
    "register_matplotlib_converters()"
   ]
  },
  {
   "cell_type": "code",
   "execution_count": null,
   "metadata": {},
   "outputs": [],
   "source": [
    "df = pd.read_csv(\"data.csv\", index_col=0)\n",
    "df.index = pd.to_datetime(df.index)"
   ]
  },
  {
   "cell_type": "code",
   "execution_count": null,
   "metadata": {},
   "outputs": [],
   "source": [
    "df"
   ]
  },
  {
   "cell_type": "code",
   "execution_count": null,
   "metadata": {},
   "outputs": [],
   "source": [
    "means = df.resample('MS').mean()\n",
    "means"
   ]
  },
  {
   "cell_type": "code",
   "execution_count": null,
   "metadata": {},
   "outputs": [],
   "source": [
    "type(matplotlib.artist)"
   ]
  },
  {
   "cell_type": "code",
   "execution_count": null,
   "metadata": {},
   "outputs": [],
   "source": [
    "fig = plt.figure(figsize=(6, 5))  # create a figure object\\n\",\n",
    "ax = fig.add_subplot(1, 1, 1)  # create an axes object in the figure\\n\",\n",
    "\n",
    "colours = (\"#58098f\", \"#bababa\", \"#bababa\", \"#bababa\")\n",
    "variables = (\"A\", \"B\", \"C\", \"D\")\n",
    "zorders = (1,0,0,0)\n",
    "\n",
    "for var, color,zorder in zip(variables, colours, zorders):\n",
    "    line_list = ax.plot(means.index, means[var], linewidth=4, color=color, zorder=zorder, label=var)\n",
    "    ax.annotate(f'   {var}', (1,1), xycoords=line_list[-1], verticalalignment='center')\n",
    "\n",
    "#remove top and right axis\\n\",\n",
    "ax.spines[\"top\"].set_visible(False)\n",
    "ax.spines[\"right\"].set_visible(False)\n",
    "\n",
    "#set axis limits and ticks\\n\",\n",
    "ax.set_ylim(0,8)\n",
    "ax.set_yticks(range(0,9))\n",
    "\n",
    "#format axis tick labels\\n\",\n",
    "ax.yaxis.set_major_formatter(ticker.StrMethodFormatter('{x:.0f}'))   \n",
    "    \n",
    "ax.xaxis.set_major_locator(mdates.MonthLocator())\n",
    "ax.xaxis.set_major_formatter(mdates.DateFormatter('%b'))"
   ]
  },
  {
   "cell_type": "code",
   "execution_count": null,
   "metadata": {},
   "outputs": [],
   "source": [
    "fig = plt.figure(figsize=(6, 5))  # create a figure object\\n\",\n",
    "ax = fig.add_subplot(1, 1, 1)  # create an axes object in the figure\\n\",\n",
    "\n",
    "colours = (\"#58098f\", \"#bababa\", \"#bababa\", \"#bababa\")\n",
    "variables = (\"A\", \"B\", \"C\", \"D\")\n",
    "zorders = (1,0,0,0)\n",
    "\n",
    "for var, color,zorder in zip(variables, colours, zorders):\n",
    "    line_list = ax.plot(means.index, means[var], linewidth=4, color=color, zorder=zorder, label=var)\n",
    "\n",
    "#remove top and right axis\\n\",\n",
    "ax.spines[\"top\"].set_visible(False)\n",
    "ax.spines[\"right\"].set_visible(False)\n",
    "\n",
    "#set axis limits and ticks\\n\",\n",
    "ax.set_ylim(0,8)\n",
    "ax.set_yticks(range(0,9))\n",
    "\n",
    "#format axis tick labels\\n\",\n",
    "ax.yaxis.set_major_formatter(ticker.StrMethodFormatter('{x:.0f}'))   \n",
    "    \n",
    "ax.xaxis.set_major_locator(mdates.MonthLocator())\n",
    "ax.xaxis.set_major_formatter(mdates.DateFormatter('%b'))\n",
    "\n",
    "for line in ax.lines:\n",
    "    ax.annotate(f'   {line.get_label()}', (line.get_xdata()[-1],line.get_ydata()[-1]), xycoords='data', verticalalignment='center') "
   ]
  },
  {
   "cell_type": "code",
   "execution_count": null,
   "metadata": {},
   "outputs": [],
   "source": [
    "def make_plot(ax, variables):\n",
    "    colours = [\"#58098f\"]\n",
    "    colours.extend([\"#bababa\"]*(len(variables)-1))\n",
    "    zorders = [1]\n",
    "    zorders.extend([0]*(len(variables)-1))\n",
    "\n",
    "    for var, color,zorder in zip(variables, colours, zorders):\n",
    "        line_list = ax.plot(means.index, means[var], linewidth=4, color=color, zorder=zorder, label=var)\n",
    "\n",
    "    #remove top and right axis\\n\",\n",
    "    ax.spines[\"top\"].set_visible(False)\n",
    "    ax.spines[\"right\"].set_visible(False)\n",
    "\n",
    "    #set axis limits and ticks\\n\",\n",
    "    ax.set_ylim(0,8)\n",
    "    ax.set_yticks(range(0,9))\n",
    "\n",
    "    #format axis tick labels\\n\",\n",
    "    ax.yaxis.set_major_formatter(ticker.StrMethodFormatter('{x:.0f}'))   \n",
    "\n",
    "    ax.xaxis.set_major_locator(mdates.MonthLocator())\n",
    "    ax.xaxis.set_major_formatter(mdates.DateFormatter('%b'))\n",
    "\n",
    "    for line in ax.lines:\n",
    "        ax.annotate(f'   {line.get_label()}', (line.get_xdata()[-1],line.get_ydata()[-1]), xycoords='data', verticalalignment='center') "
   ]
  },
  {
   "cell_type": "code",
   "execution_count": null,
   "metadata": {},
   "outputs": [],
   "source": [
    "variable_groups = ((\"A\"),\n",
    "                   (\"A\", \"B\"),\n",
    "                   (\"A\", \"B\", \"C\", \"D\"),\n",
    "                  )\n",
    "\n",
    "num_plots = len(variable_groups)\n",
    "\n",
    "fig = plt.figure(figsize=(2 + 6*num_plots, 5))  # create a figure object\\n\",\n",
    "axes = [fig.add_subplot(1,num_plots,i+1) for i in range(num_plots)]\n",
    "for ax, variable_group in zip(axes, variable_groups):\n",
    "    make_plot(ax, variable_group)"
   ]
  },
  {
   "cell_type": "code",
   "execution_count": null,
   "metadata": {},
   "outputs": [],
   "source": []
  },
  {
   "cell_type": "code",
   "execution_count": null,
   "metadata": {},
   "outputs": [],
   "source": []
  },
  {
   "cell_type": "code",
   "execution_count": null,
   "metadata": {},
   "outputs": [],
   "source": []
  }
 ],
 "metadata": {
  "kernelspec": {
   "display_name": "Python 3",
   "language": "python",
   "name": "python3"
  },
  "language_info": {
   "codemirror_mode": {
    "name": "ipython",
    "version": 3
   },
   "file_extension": ".py",
   "mimetype": "text/x-python",
   "name": "python",
   "nbconvert_exporter": "python",
   "pygments_lexer": "ipython3",
   "version": "3.7.4"
  }
 },
 "nbformat": 4,
 "nbformat_minor": 2
}
