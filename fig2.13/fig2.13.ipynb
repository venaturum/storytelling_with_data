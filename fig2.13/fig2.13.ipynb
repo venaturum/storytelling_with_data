{
 "cells": [
  {
   "cell_type": "code",
   "execution_count": null,
   "metadata": {},
   "outputs": [],
   "source": [
    "import pandas as pd\n",
    "import numpy as np\n",
    "import matplotlib.pyplot as plt\n",
    "import matplotlib.ticker as ticker"
   ]
  },
  {
   "cell_type": "code",
   "execution_count": null,
   "metadata": {},
   "outputs": [],
   "source": [
    "df = pd.DataFrame({'x':['Now', 'Jan 1, 2013'], 'y':[0.35, 0.396]})"
   ]
  },
  {
   "cell_type": "code",
   "execution_count": null,
   "metadata": {},
   "outputs": [],
   "source": [
    "fig = plt.figure(figsize=(14, 4))  # create a figure object\n",
    "\n",
    "for i in [1,2]:\n",
    "    ax = fig.add_subplot(1, 2, i)  # create an axes object in the figure\n",
    "\n",
    "    ax.bar(df.x, df.y, width =0.7, color=\"#ff7800\")\n",
    "\n",
    "    for spine in {1:(\"left\", \"top\"), 2:(\"right\", \"top\")}[i]:\n",
    "        ax.spines[spine].set_visible(False)\n",
    "\n",
    "    linspace = {1:(0.34, 0.42, 5), 2:(0, 0.4, 5)}[i]\n",
    "    ax.set_yticks(np.linspace(*linspace))\n",
    "    ax.yaxis.set_major_formatter(ticker.StrMethodFormatter('{x:.0%}'))\n",
    "    if i == 1:\n",
    "        ax.yaxis.tick_right()\n",
    "        ax.set_ylim(*linspace[:2])\n",
    "\n",
    "    y_lower, y_upper = ax.get_ylim()\n",
    "    for x,y in zip(df.x, df.y):\n",
    "        offset = {1:10, 2:-10}[i]\n",
    "        color = {1:'#000000', 2:'#ffffff'}[i]\n",
    "        ax.annotate(f'{y:.1%}', (x,y), xycoords='data', horizontalalignment='center', verticalalignment='center', fontsize=12, textcoords='offset points', xytext=(0,offset), color=color) "
   ]
  },
  {
   "cell_type": "code",
   "execution_count": null,
   "metadata": {},
   "outputs": [],
   "source": []
  },
  {
   "cell_type": "code",
   "execution_count": null,
   "metadata": {},
   "outputs": [],
   "source": []
  },
  {
   "cell_type": "code",
   "execution_count": null,
   "metadata": {},
   "outputs": [],
   "source": []
  }
 ],
 "metadata": {
  "kernelspec": {
   "display_name": "Python 3",
   "language": "python",
   "name": "python3"
  },
  "language_info": {
   "codemirror_mode": {
    "name": "ipython",
    "version": 3
   },
   "file_extension": ".py",
   "mimetype": "text/x-python",
   "name": "python",
   "nbconvert_exporter": "python",
   "pygments_lexer": "ipython3",
   "version": "3.7.4"
  }
 },
 "nbformat": 4,
 "nbformat_minor": 2
}
